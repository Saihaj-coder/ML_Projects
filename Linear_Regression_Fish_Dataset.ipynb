{
 "cells": [
  {
   "cell_type": "code",
   "execution_count": 1,
   "id": "34a2e404",
   "metadata": {},
   "outputs": [],
   "source": [
    "import numpy as np\n",
    "import matplotlib.pyplot as plt\n",
    "import pandas as pd"
   ]
  },
  {
   "cell_type": "code",
   "execution_count": 2,
   "id": "48be10ca",
   "metadata": {},
   "outputs": [
    {
     "name": "stdout",
     "output_type": "stream",
     "text": [
      "<class 'pandas.core.frame.DataFrame'>\n",
      "RangeIndex: 159 entries, 0 to 158\n",
      "Data columns (total 7 columns):\n",
      " #   Column   Non-Null Count  Dtype  \n",
      "---  ------   --------------  -----  \n",
      " 0   Species  159 non-null    object \n",
      " 1   Weight   159 non-null    float64\n",
      " 2   Length1  159 non-null    float64\n",
      " 3   Length2  159 non-null    float64\n",
      " 4   Length3  159 non-null    float64\n",
      " 5   Height   159 non-null    float64\n",
      " 6   Width    159 non-null    float64\n",
      "dtypes: float64(6), object(1)\n",
      "memory usage: 8.8+ KB\n"
     ]
    }
   ],
   "source": [
    "dataset = pd.read_csv('Fish.csv')\n",
    "dataset.info()"
   ]
  },
  {
   "cell_type": "code",
   "execution_count": 3,
   "id": "6e1c0e09",
   "metadata": {},
   "outputs": [],
   "source": [
    "x=dataset.iloc[:,[2,3,4,5,6]].values\n",
    "y=dataset.iloc[:,1].values"
   ]
  },
  {
   "cell_type": "code",
   "execution_count": 4,
   "id": "657170d4",
   "metadata": {},
   "outputs": [
    {
     "name": "stdout",
     "output_type": "stream",
     "text": [
      "(159, 5) (159,)\n"
     ]
    }
   ],
   "source": [
    "print(f\"{x.shape} {y.shape}\")"
   ]
  },
  {
   "cell_type": "code",
   "execution_count": 5,
   "id": "0048f07b",
   "metadata": {},
   "outputs": [
    {
     "data": {
      "text/plain": [
       "((119, 5), (40, 5), (119,), (40,))"
      ]
     },
     "execution_count": 5,
     "metadata": {},
     "output_type": "execute_result"
    }
   ],
   "source": [
    "from sklearn.model_selection import train_test_split\n",
    "x_train, x_test, y_train, y_test = train_test_split(x, y, test_size = 0.25, random_state = 98)\n",
    "x_train.shape, x_test.shape, y_train.shape, y_test.shape"
   ]
  },
  {
   "cell_type": "code",
   "execution_count": 6,
   "id": "bbb923d4",
   "metadata": {},
   "outputs": [
    {
     "name": "stdout",
     "output_type": "stream",
     "text": [
      "(5,) (5,)\n"
     ]
    }
   ],
   "source": [
    "u = np.mean(x_train, axis = 0)\n",
    "std = np.std(x_train, axis = 0)\n",
    "print(u.shape, std.shape)"
   ]
  },
  {
   "cell_type": "code",
   "execution_count": 7,
   "id": "e2ec7de3",
   "metadata": {},
   "outputs": [],
   "source": [
    "x_train = (x_train - u)/std\n",
    "x_test = (x_test-u)/std\n",
    "x_train = np.array(x_train)\n",
    "x_test = np.array(x_test)"
   ]
  },
  {
   "cell_type": "code",
   "execution_count": 8,
   "id": "1e6a741a",
   "metadata": {},
   "outputs": [
    {
     "data": {
      "image/png": "[encoded data removed]",
      "text/plain": [
       "<Figure size 640x480 with 1 Axes>"
      ]
     },
     "metadata": {},
     "output_type": "display_data"
    }
   ],
   "source": [
    "plt.style.use('seaborn-v0_8-whitegrid')\n",
    "plt.scatter(x_train[:, 0], y_train)\n",
    "plt.show()"
   ]
  },
  {
   "cell_type": "code",
   "execution_count": 9,
   "id": "416cac84",
   "metadata": {},
   "outputs": [],
   "source": [
    "plt.style.available?"
   ]
  },
  {
   "cell_type": "code",
   "execution_count": 10,
   "id": "5e2f699e",
   "metadata": {},
   "outputs": [
    {
     "name": "stdout",
     "output_type": "stream",
     "text": [
      "[[ 1.         -1.17034869 -1.17618259 -1.16928945 -0.56168929 -1.17947165]\n",
      " [ 1.          2.89689784  2.86277397  2.73731239  0.12001404  1.00553814]\n",
      " [ 1.          2.1458715   2.1094405   1.99120174 -0.03194166  1.02105652]\n",
      " [ 1.          0.36096475  0.34863696  0.28939879 -0.78928457 -0.57391277]]\n"
     ]
    }
   ],
   "source": [
    "ones = np.ones((x_train.shape[0], 1))\n",
    "x_train = np.hstack((ones, x_train))\n",
    "print(x_train[:4, :])"
   ]
  },
  {
   "cell_type": "code",
   "execution_count": 11,
   "id": "be325f3d",
   "metadata": {},
   "outputs": [],
   "source": [
    "def hypothesis(x, theta):\n",
    "    return np.dot(x, theta)"
   ]
  },
  {
   "cell_type": "code",
   "execution_count": 12,
   "id": "2ba99ccd",
   "metadata": {},
   "outputs": [],
   "source": [
    "def cost(X, Y, theta):\n",
    "    m = X.shape[0]\n",
    "    total_error = 0\n",
    "\n",
    "    y_p = hypothesis(X, theta)\n",
    "    total_error = np.sum((y_p - Y)**2)\n",
    "\n",
    "    return total_error/m"
   ]
  },
  {
   "cell_type": "code",
   "execution_count": 13,
   "id": "c7aca778",
   "metadata": {},
   "outputs": [],
   "source": [
    "def gradient(X, Y, theta):\n",
    "\n",
    "    y_p = hypothesis(X, theta)\n",
    "\n",
    "    grad = np.dot(X.T, (y_p - Y))\n",
    "\n",
    "    return grad/X.shape[0]"
   ]
  },
  {
   "cell_type": "code",
   "execution_count": 14,
   "id": "6b02e19b",
   "metadata": {},
   "outputs": [],
   "source": [
    "def gradient_descent(X, Y, learning_rate = 0.001, max_steps = 500):\n",
    "\n",
    "    m, n = X.shape\n",
    "    theta = np.zeros((n, ))\n",
    "    cost_epoch = []\n",
    "\n",
    "    for i in range(max_steps):\n",
    "\n",
    "        grad = gradient(X, Y, theta)\n",
    "\n",
    "        e = cost(X, Y, theta)\n",
    "        cost_epoch.append(e)\n",
    "\n",
    "        theta = theta - learning_rate*grad\n",
    "\n",
    "    return theta, cost_epoch"
   ]
  },
  {
   "cell_type": "code",
   "execution_count": 15,
   "id": "ed31c28b",
   "metadata": {},
   "outputs": [],
   "source": [
    "theta, cost_epoch = gradient_descent(x_train, y_train, learning_rate=0.3)"
   ]
  },
  {
   "cell_type": "code",
   "execution_count": 16,
   "id": "8f21bbcd",
   "metadata": {},
   "outputs": [
    {
     "data": {
      "text/plain": [
       "array([403.8       , 158.12079842,  96.78880738, -33.85217645,\n",
       "        60.55764743,  83.82519858])"
      ]
     },
     "execution_count": 16,
     "metadata": {},
     "output_type": "execute_result"
    }
   ],
   "source": [
    "theta"
   ]
  },
  {
   "cell_type": "code",
   "execution_count": 17,
   "id": "4eb80d01",
   "metadata": {},
   "outputs": [
    {
     "data": {
      "text/plain": [
       "[296082.73579831934,\n",
       " 107706.65377404047,\n",
       " 55967.09342977131,\n",
       " 34841.10518820647,\n",
       " 24926.179851194243,\n",
       " 20110.05860425699,\n",
       " 17751.702669482882,\n",
       " 16593.80452075008,\n",
       " 16024.032950432971,\n",
       " 15742.670799674694,\n",
       " 15602.841630738874,\n",
       " 15532.53791960057,\n",
       " 15496.444607547983,\n",
       " 15477.233309926363,\n",
       " 15466.394775716311,\n",
       " 15459.745323541581,\n",
       " 15455.223900316985,\n",
       " 15451.81183856078,\n",
       " 15449.002951910645,\n",
       " 15446.543453705854,\n",
       " 15444.304203453858,\n",
       " 15442.21787741434,\n",
       " 15440.248012809618,\n",
       " 15438.373714445997,\n",
       " 15436.582068263668,\n",
       " 15434.864354905669,\n",
       " 15433.214142571302,\n",
       " 15431.62631337148,\n",
       " 15430.096556385868,\n",
       " 15428.621096236642,\n",
       " 15427.196542109768,\n",
       " 15425.819799534878,\n",
       " 15424.488015703233,\n",
       " 15423.198543308747,\n",
       " 15421.94891504449,\n",
       " 15420.736824524616,\n",
       " 15419.560111283707,\n",
       " 15418.416748499285,\n",
       " 15417.304832623127,\n",
       " 15416.222574409972,\n",
       " 15415.168291008704,\n",
       " 15414.140398888205,\n",
       " 15413.137407437684,\n",
       " 15412.15791312548,\n",
       " 15411.20059413033,\n",
       " 15410.264205379623,\n",
       " 15409.347573944138,\n",
       " 15408.449594749043,\n",
       " 15407.569226568963,\n",
       " 15406.705488280539,\n",
       " 15405.857455350304,\n",
       " 15405.024256538925,\n",
       " 15404.205070805549,\n",
       " 15403.399124397849,\n",
       " 15402.605688115045,\n",
       " 15401.824074732507,\n",
       " 15401.053636577451,\n",
       " 15400.293763246364,\n",
       " 15399.543879455301,\n",
       " 15398.80344301511,\n",
       " 15398.07194292398,\n",
       " 15397.348897570442,\n",
       " 15396.633853040215,\n",
       " 15395.926381520832,\n",
       " 15395.226079798387,\n",
       " 15394.532567840932,\n",
       " 15393.84548746359,\n",
       " 15393.164501070589,\n",
       " 15392.489290469806,\n",
       " 15391.819555755543,\n",
       " 15391.155014255712,\n",
       " 15390.495399539672,\n",
       " 15389.840460483138,\n",
       " 15389.189960386982,\n",
       " 15388.543676146768,\n",
       " 15387.901397470105,\n",
       " 15387.26292613906,\n",
       " 15386.628075315026,\n",
       " 15385.996668883628,\n",
       " 15385.36854083738,\n",
       " 15384.743534693784,\n",
       " 15384.121502947033,\n",
       " 15383.502306551247,\n",
       " 15382.885814433412,\n",
       " 15382.271903034472,\n",
       " 15381.660455876701,\n",
       " 15381.051363156088,\n",
       " 15380.444521358153,\n",
       " 15379.8398328959,\n",
       " 15379.237205768546,\n",
       " 15378.63655323999,\n",
       " 15378.037793535745,\n",
       " 15377.440849557297,\n",
       " 15376.845648612967,\n",
       " 15376.25212216422,\n",
       " 15375.660205586599,\n",
       " 15375.06983794441,\n",
       " 15374.480961778385,\n",
       " 15373.893522905606,\n",
       " 15373.30747023087,\n",
       " 15372.722755568962,\n",
       " 15372.139333477187,\n",
       " 15371.557161097484,\n",
       " 15370.976198007653,\n",
       " 15370.39640608117,\n",
       " 15369.817749355056,\n",
       " 15369.240193905312,\n",
       " 15368.663707729613,\n",
       " 15368.088260636674,\n",
       " 15367.513824142035,\n",
       " 15366.94037136981,\n",
       " 15366.367876960134,\n",
       " 15365.796316981889,\n",
       " 15365.2256688505,\n",
       " 15364.655911250451,\n",
       " 15364.087024062208,\n",
       " 15363.518988293472,\n",
       " 15362.951786014235,\n",
       " 15362.38540029572,\n",
       " 15361.819815152709,\n",
       " 15361.255015489316,\n",
       " 15360.690987047767,\n",
       " 15360.127716360192,\n",
       " 15359.565190703206,\n",
       " 15359.003398055038,\n",
       " 15358.442327055212,\n",
       " 15357.881966966468,\n",
       " 15357.322307638931,\n",
       " 15356.76333947635,\n",
       " 15356.205053404185,\n",
       " 15355.647440839699,\n",
       " 15355.090493663576,\n",
       " 15354.534204193347,\n",
       " 15353.978565158244,\n",
       " 15353.42356967552,\n",
       " 15352.869211228157,\n",
       " 15352.315483643819,\n",
       " 15351.762381075061,\n",
       " 15351.209897980654,\n",
       " 15350.65802910796,\n",
       " 15350.106769476395,\n",
       " 15349.55611436174,\n",
       " 15349.006059281464,\n",
       " 15348.456599980798,\n",
       " 15347.907732419684,\n",
       " 15347.359452760433,\n",
       " 15346.811757356087,\n",
       " 15346.26464273952,\n",
       " 15345.718105613041,\n",
       " 15345.172142838732,\n",
       " 15344.626751429256,\n",
       " 15344.081928539208,\n",
       " 15343.537671457001,\n",
       " 15342.993977597156,\n",
       " 15342.450844493105,\n",
       " 15341.90826979036,\n",
       " 15341.366251240088,\n",
       " 15340.824786693065,\n",
       " 15340.283874093977,\n",
       " 15339.743511476025,\n",
       " 15339.203696955865,\n",
       " 15338.664428728845,\n",
       " 15338.125705064498,\n",
       " 15337.587524302297,\n",
       " 15337.049884847658,\n",
       " 15336.512785168183,\n",
       " 15335.976223790094,\n",
       " 15335.440199294904,\n",
       " 15334.904710316257,\n",
       " 15334.36975553694,\n",
       " 15333.835333686116,\n",
       " 15333.301443536659,\n",
       " 15332.76808390268,\n",
       " 15332.235253637167,\n",
       " 15331.702951629792,\n",
       " 15331.171176804823,\n",
       " 15330.639928119157,\n",
       " 15330.109204560482,\n",
       " 15329.579005145511,\n",
       " 15329.049328918381,\n",
       " 15328.52017494906,\n",
       " 15327.991542331905,\n",
       " 15327.463430184302,\n",
       " 15326.935837645351,\n",
       " 15326.408763874653,\n",
       " 15325.882208051145,\n",
       " 15325.356169372053,\n",
       " 15324.830647051815,\n",
       " 15324.305640321169,\n",
       " 15323.781148426204,\n",
       " 15323.25717062754,\n",
       " 15322.733706199491,\n",
       " 15322.21075442932,\n",
       " 15321.688314616526,\n",
       " 15321.166386072155,\n",
       " 15320.644968118168,\n",
       " 15320.12406008687,\n",
       " 15319.603661320281,\n",
       " 15319.083771169679,\n",
       " 15318.564388995033,\n",
       " 15318.045514164569,\n",
       " 15317.527146054306,\n",
       " 15317.009284047665,\n",
       " 15316.49192753501,\n",
       " 15315.975075913353,\n",
       " 15315.458728585932,\n",
       " 15314.942884961929,\n",
       " 15314.427544456146,\n",
       " 15313.91270648868,\n",
       " 15313.398370484674,\n",
       " 15312.884535874076,\n",
       " 15312.37120209133,\n",
       " 15311.858368575202,\n",
       " 15311.346034768534,\n",
       " 15310.83420011803,\n",
       " 15310.322864074096,\n",
       " 15309.812026090613,\n",
       " 15309.30168562479,\n",
       " 15308.791842136996,\n",
       " 15308.282495090605,\n",
       " 15307.77364395186,\n",
       " 15307.265288189716,\n",
       " 15306.757427275721,\n",
       " 15306.250060683915,\n",
       " 15305.743187890683,\n",
       " 15305.236808374653,\n",
       " 15304.730921616632,\n",
       " 15304.225527099457,\n",
       " 15303.720624307927,\n",
       " 15303.21621272874,\n",
       " 15302.712291850377,\n",
       " 15302.208861163042,\n",
       " 15301.705920158589,\n",
       " 15301.20346833047,\n",
       " 15300.701505173642,\n",
       " 15300.200030184526,\n",
       " 15299.699042860955,\n",
       " 15299.198542702095,\n",
       " 15298.698529208441,\n",
       " 15298.199001881712,\n",
       " 15297.699960224858,\n",
       " 15297.201403741983,\n",
       " 15296.703331938326,\n",
       " 15296.205744320201,\n",
       " 15295.708640395002,\n",
       " 15295.212019671118,\n",
       " 15294.715881657956,\n",
       " 15294.220225865849,\n",
       " 15293.725051806083,\n",
       " 15293.230358990857,\n",
       " 15292.736146933228,\n",
       " 15292.24241514714,\n",
       " 15291.749163147348,\n",
       " 15291.256390449425,\n",
       " 15290.764096569754,\n",
       " 15290.27228102548,\n",
       " 15289.780943334497,\n",
       " 15289.290083015478,\n",
       " 15288.799699587787,\n",
       " 15288.30979257151,\n",
       " 15287.820361487433,\n",
       " 15287.331405857034,\n",
       " 15286.842925202454,\n",
       " 15286.354919046491,\n",
       " 15285.867386912598,\n",
       " 15285.380328324864,\n",
       " 15284.893742808013,\n",
       " 15284.407629887382,\n",
       " 15283.921989088924,\n",
       " 15283.436819939176,\n",
       " 15282.952121965303,\n",
       " 15282.467894695033,\n",
       " 15281.984137656676,\n",
       " 15281.500850379114,\n",
       " 15281.018032391814,\n",
       " 15280.535683224773,\n",
       " 15280.053802408565,\n",
       " 15279.572389474308,\n",
       " 15279.091443953666,\n",
       " 15278.610965378837,\n",
       " 15278.130953282565,\n",
       " 15277.651407198104,\n",
       " 15277.17232665926,\n",
       " 15276.693711200347,\n",
       " 15276.215560356199,\n",
       " 15275.737873662174,\n",
       " 15275.260650654116,\n",
       " 15274.783890868426,\n",
       " 15274.307593841962,\n",
       " 15273.831759112114,\n",
       " 15273.35638621675,\n",
       " 15272.881474694264,\n",
       " 15272.40702408353,\n",
       " 15271.933033923904,\n",
       " 15271.459503755246,\n",
       " 15270.986433117903,\n",
       " 15270.513821552719,\n",
       " 15270.041668600998,\n",
       " 15269.569973804537,\n",
       " 15269.098736705626,\n",
       " 15268.627956847007,\n",
       " 15268.157633771936,\n",
       " 15267.68776702411,\n",
       " 15267.21835614773,\n",
       " 15266.749400687439,\n",
       " 15266.280900188367,\n",
       " 15265.812854196136,\n",
       " 15265.345262256784,\n",
       " 15264.878123916873,\n",
       " 15264.411438723391,\n",
       " 15263.945206223812,\n",
       " 15263.479425966068,\n",
       " 15263.014097498557,\n",
       " 15262.549220370129,\n",
       " 15262.084794130104,\n",
       " 15261.620818328263,\n",
       " 15261.157292514838,\n",
       " 15260.694216240532,\n",
       " 15260.231589056488,\n",
       " 15259.769410514326,\n",
       " 15259.307680166103,\n",
       " 15258.846397564343,\n",
       " 15258.38556226201,\n",
       " 15257.925173812537,\n",
       " 15257.465231769806,\n",
       " 15257.005735688143,\n",
       " 15256.54668512233,\n",
       " 15256.0880796276,\n",
       " 15255.62991875963,\n",
       " 15255.172202074556,\n",
       " 15254.71492912896,\n",
       " 15254.258099479855,\n",
       " 15253.801712684726,\n",
       " 15253.345768301491,\n",
       " 15252.89026588851,\n",
       " 15252.435205004598,\n",
       " 15251.98058520901,\n",
       " 15251.526406061443,\n",
       " 15251.072667122044,\n",
       " 15250.619367951387,\n",
       " 15250.16650811051,\n",
       " 15249.71408716088,\n",
       " 15249.262104664407,\n",
       " 15248.810560183443,\n",
       " 15248.359453280775,\n",
       " 15247.908783519644,\n",
       " 15247.458550463709,\n",
       " 15247.008753677079,\n",
       " 15246.559392724308,\n",
       " 15246.110467170374,\n",
       " 15245.6619765807,\n",
       " 15245.213920521146,\n",
       " 15244.766298558003,\n",
       " 15244.319110257997,\n",
       " 15243.872355188292,\n",
       " 15243.426032916497,\n",
       " 15242.980143010638,\n",
       " 15242.534685039176,\n",
       " 15242.089658571018,\n",
       " 15241.64506317549,\n",
       " 15241.200898422365,\n",
       " 15240.757163881826,\n",
       " 15240.313859124519,\n",
       " 15239.87098372149,\n",
       " 15239.428537244225,\n",
       " 15238.98651926465,\n",
       " 15238.544929355105,\n",
       " 15238.103767088367,\n",
       " 15237.663032037655,\n",
       " 15237.222723776595,\n",
       " 15236.782841879236,\n",
       " 15236.343385920085,\n",
       " 15235.904355474046,\n",
       " 15235.465750116464,\n",
       " 15235.027569423099,\n",
       " 15234.589812970153,\n",
       " 15234.152480334234,\n",
       " 15233.715571092394,\n",
       " 15233.279084822092,\n",
       " 15232.843021101218,\n",
       " 15232.407379508093,\n",
       " 15231.97215962144,\n",
       " 15231.537361020424,\n",
       " 15231.102983284634,\n",
       " 15230.669025994055,\n",
       " 15230.235488729113,\n",
       " 15229.802371070658,\n",
       " 15229.369672599949,\n",
       " 15228.937392898672,\n",
       " 15228.505531548926,\n",
       " 15228.07408813323,\n",
       " 15227.643062234527,\n",
       " 15227.21245343618,\n",
       " 15226.78226132196,\n",
       " 15226.352485476054,\n",
       " 15225.923125483077,\n",
       " 15225.494180928057,\n",
       " 15225.06565139643,\n",
       " 15224.637536474065,\n",
       " 15224.209835747213,\n",
       " 15223.782548802577,\n",
       " 15223.35567522726,\n",
       " 15222.929214608772,\n",
       " 15222.503166535036,\n",
       " 15222.077530594406,\n",
       " 15221.652306375632,\n",
       " 15221.22749346787,\n",
       " 15220.803091460708,\n",
       " 15220.379099944143,\n",
       " 15219.955518508557,\n",
       " 15219.532346744769,\n",
       " 15219.10958424401,\n",
       " 15218.687230597901,\n",
       " 15218.26528539848,\n",
       " 15217.843748238201,\n",
       " 15217.422618709918,\n",
       " 15217.001896406897,\n",
       " 15216.581580922813,\n",
       " 15216.16167185175,\n",
       " 15215.742168788187,\n",
       " 15215.32307132702,\n",
       " 15214.90437906355,\n",
       " 15214.48609159348,\n",
       " 15214.06820851293,\n",
       " 15213.650729418398,\n",
       " 15213.233653906816,\n",
       " 15212.816981575503,\n",
       " 15212.400712022194,\n",
       " 15211.984844845007,\n",
       " 15211.56937964248,\n",
       " 15211.154316013552,\n",
       " 15210.739653557554,\n",
       " 15210.32539187422,\n",
       " 15209.911530563708,\n",
       " 15209.498069226544,\n",
       " 15209.085007463671,\n",
       " 15208.672344876431,\n",
       " 15208.260081066574,\n",
       " 15207.848215636219,\n",
       " 15207.436748187918,\n",
       " 15207.025678324608,\n",
       " 15206.615005649617,\n",
       " 15206.204729766685,\n",
       " 15205.794850279932,\n",
       " 15205.385366793897,\n",
       " 15204.976278913486,\n",
       " 15204.567586244028,\n",
       " 15204.159288391229,\n",
       " 15203.751384961208,\n",
       " 15203.34387556046,\n",
       " 15202.936759795886,\n",
       " 15202.53003727478,\n",
       " 15202.123707604824,\n",
       " 15201.717770394092,\n",
       " 15201.312225251068,\n",
       " 15200.907071784604,\n",
       " 15200.502309603964,\n",
       " 15200.097938318784,\n",
       " 15199.693957539115,\n",
       " 15199.290366875384,\n",
       " 15198.887165938402,\n",
       " 15198.484354339387,\n",
       " 15198.081931689938,\n",
       " 15197.679897602038,\n",
       " 15197.278251688069,\n",
       " 15196.876993560792,\n",
       " 15196.476122833366,\n",
       " 15196.075639119328,\n",
       " 15195.67554203262,\n",
       " 15195.275831187539,\n",
       " 15194.876506198794,\n",
       " 15194.47756668148,\n",
       " 15194.079012251064,\n",
       " 15193.680842523412,\n",
       " 15193.283057114762,\n",
       " 15192.885655641738,\n",
       " 15192.48863772137,\n",
       " 15192.092002971041,\n",
       " 15191.695751008532,\n",
       " 15191.299881452016,\n",
       " 15190.90439392003,\n",
       " 15190.509288031508,\n",
       " 15190.114563405756,\n",
       " 15189.720219662468,\n",
       " 15189.326256421715,\n",
       " 15188.932673303956,\n",
       " 15188.539469930018,\n",
       " 15188.146645921124,\n",
       " 15187.754200898855,\n",
       " 15187.362134485193,\n",
       " 15186.970446302481,\n",
       " 15186.579135973465,\n",
       " 15186.188203121239,\n",
       " 15185.797647369285,\n",
       " 15185.407468341484,\n",
       " 15185.017665662062,\n",
       " 15184.628238955645,\n",
       " 15184.239187847223,\n",
       " 15183.850511962153,\n",
       " 15183.46221092619]"
      ]
     },
     "execution_count": 17,
     "metadata": {},
     "output_type": "execute_result"
    }
   ],
   "source": [
    "cost_epoch"
   ]
  },
  {
   "cell_type": "code",
   "execution_count": 18,
   "id": "bab2f1a8",
   "metadata": {},
   "outputs": [
    {
     "data": {
      "image/png": "[encoded data removed]",
      "text/plain": [
       "<Figure size 640x480 with 1 Axes>"
      ]
     },
     "metadata": {},
     "output_type": "display_data"
    }
   ],
   "source": [
    "plt.plot(cost_epoch)\n",
    "plt.show()"
   ]
  },
  {
   "cell_type": "code",
   "execution_count": 19,
   "id": "6dded1dc",
   "metadata": {},
   "outputs": [
    {
     "name": "stdout",
     "output_type": "stream",
     "text": [
      "[[ 1.          0.70234036  0.77522339  0.94329352]\n",
      " [ 1.         -0.70217643 -0.69513833 -0.69144331]\n",
      " [ 1.          1.80449589  1.77361715  1.66425437]\n",
      " [ 1.          0.3121968   0.29417912  0.30616532]] (40, 6)\n"
     ]
    }
   ],
   "source": [
    "ones = np.ones((x_test.shape[0], 1))\n",
    "x_test = np.hstack((ones, x_test))\n",
    "print(x_test[:4, :4], x_test.shape)\n",
    "# y_test = np.array(y_test)\n",
    "# y_test = y_test.reshape((-1, 1))"
   ]
  },
  {
   "cell_type": "code",
   "execution_count": 20,
   "id": "8ddd932a",
   "metadata": {},
   "outputs": [],
   "source": [
    "y_pred_test = []\n",
    "\n",
    "for i in range(x_test.shape[0]):\n",
    "    pred = hypothesis(x_test[i], theta)\n",
    "    y_pred_test.append(pred)\n",
    "\n",
    "y_pred_test = np.array(y_pred_test)"
   ]
  },
  {
   "cell_type": "code",
   "execution_count": 21,
   "id": "2058cd3f",
   "metadata": {},
   "outputs": [
    {
     "name": "stdout",
     "output_type": "stream",
     "text": [
      "799.2522058155449 1000.0\n",
      "162.1423575439802 110.0\n",
      "833.0624302230169 770.0\n",
      "523.5266849305171 390.0\n",
      "240.9642463371867 161.0\n",
      "384.9949794276165 272.0\n",
      "-178.47359104958733 9.8\n",
      "-235.55772556322373 5.9\n",
      "810.9169982796097 900.0\n",
      "205.27904474440913 110.0\n",
      "184.4061513221742 120.0\n",
      "642.3388455599245 556.0\n",
      "358.6954899678162 265.0\n",
      "267.0132748373318 180.0\n",
      "831.4423334041927 1015.0\n",
      "106.84622564866663 85.0\n",
      "736.3428933245291 840.0\n",
      "775.2419080278557 567.0\n",
      "355.7401757695523 290.0\n",
      "87.43378729057949 100.0\n",
      "360.27423804203846 260.0\n",
      "702.9646789271677 700.0\n",
      "584.262715353717 600.0\n",
      "500.949207640003 450.0\n",
      "550.2630348148891 475.0\n",
      "185.20553930056184 120.0\n",
      "293.5290561406172 180.0\n",
      "332.2929187148882 270.0\n",
      "202.8270808608505 140.0\n",
      "165.1884993061386 110.0\n",
      "306.802374093898 197.0\n",
      "92.4733800353653 78.0\n",
      "373.6242105591756 250.0\n",
      "624.0987040167038 610.0\n",
      "1137.8374987187776 1550.0\n",
      "516.2862543094626 450.0\n",
      "542.5228984303919 500.0\n",
      "259.18920628217774 225.0\n",
      "410.15483462820305 300.0\n",
      "49.596046518651264 70.0\n"
     ]
    }
   ],
   "source": [
    "for i in range(len(y_pred_test)):\n",
    "    print(y_pred_test[i], y_test[i])"
   ]
  },
  {
   "cell_type": "code",
   "execution_count": 22,
   "id": "ec196e07",
   "metadata": {},
   "outputs": [
    {
     "name": "stdout",
     "output_type": "stream",
     "text": [
      "MAE: 93.38861920874476\n",
      "MSE: 14489.872689567297\n",
      "RMSE: 120.37388707509324\n",
      "Accuracy:  0.8719974777753976\n"
     ]
    }
   ],
   "source": [
    "from sklearn import metrics\n",
    "\n",
    "print('MAE:', metrics.mean_absolute_error(y_test, y_pred_test))\n",
    "print('MSE:', metrics.mean_squared_error(y_test, y_pred_test))\n",
    "print('RMSE:', np.sqrt(metrics.mean_squared_error(y_test, y_pred_test)))\n",
    "print(\"Accuracy: \", metrics.explained_variance_score(y_test, y_pred_test))"
   ]
  },
  {
   "cell_type": "code",
   "execution_count": 23,
   "id": "f436957c",
   "metadata": {},
   "outputs": [
    {
     "data": {
      "image/png": "[encoded data removed]",
      "text/plain": [
       "<Figure size 640x480 with 1 Axes>"
      ]
     },
     "metadata": {},
     "output_type": "display_data"
    },
    {
     "data": {
      "image/png": "[encoded data removed]",
      "text/plain": [
       "<Figure size 640x480 with 6 Axes>"
      ]
     },
     "metadata": {},
     "output_type": "display_data"
    },
    {
     "data": {
      "text/plain": [
       "<matplotlib.collections.PathCollection at 0x235f5d88eb0>"
      ]
     },
     "execution_count": 23,
     "metadata": {},
     "output_type": "execute_result"
    },
    {
     "data": {
      "image/png": "[encoded data removed]",
      "text/plain": [
       "<Figure size 640x480 with 1 Axes>"
      ]
     },
     "metadata": {},
     "output_type": "display_data"
    }
   ],
   "source": [
    "dataset.plot()\n",
    "dataset.hist()\n",
    "plt.show()\n",
    "plt.scatter(dataset[\"Height\"],dataset[\"Width\"],color=\"red\")"
   ]
  },
  {
   "cell_type": "code",
   "execution_count": null,
   "id": "a5e0457d",
   "metadata": {},
   "outputs": [],
   "source": []
  }
 ],
 "metadata": {
  "kernelspec": {
   "display_name": "Python 3 (ipykernel)",
   "language": "python",
   "name": "python3"
  },
  "language_info": {
   "codemirror_mode": {
    "name": "ipython",
    "version": 3
   },
   "file_extension": ".py",
   "mimetype": "text/x-python",
   "name": "python",
   "nbconvert_exporter": "python",
   "pygments_lexer": "ipython3",
   "version": "3.10.8"
  }
 },
 "nbformat": 4,
 "nbformat_minor": 5
}
